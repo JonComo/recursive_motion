{
 "cells": [
  {
   "cell_type": "code",
   "execution_count": 1,
   "metadata": {
    "collapsed": true
   },
   "outputs": [],
   "source": [
    "%matplotlib inline"
   ]
  },
  {
   "cell_type": "code",
   "execution_count": 2,
   "metadata": {
    "collapsed": false
   },
   "outputs": [],
   "source": [
    "from matplotlib import pyplot as plt\n",
    "import numpy as np\n",
    "import tensorflow as tf\n",
    "from ipywidgets import interact\n",
    "from IPython.display import clear_output\n",
    "import cv2\n",
    "from time import sleep\n",
    "import os\n",
    "import random"
   ]
  },
  {
   "cell_type": "code",
   "execution_count": 3,
   "metadata": {
    "collapsed": false
   },
   "outputs": [
    {
     "name": "stdout",
     "output_type": "stream",
     "text": [
      "Image flat: 768\n"
     ]
    }
   ],
   "source": [
    "IMG = 16\n",
    "CHANNELS = 3\n",
    "HIDDEN = 2048\n",
    "\n",
    "print('Image flat: {}'.format(IMG * IMG * CHANNELS))"
   ]
  },
  {
   "cell_type": "code",
   "execution_count": 4,
   "metadata": {
    "collapsed": false
   },
   "outputs": [],
   "source": [
    "filepath = './../../data/stanford40/'\n",
    "images = os.listdir(filepath)\n",
    "\n",
    "def rand_img():\n",
    "    img = plt.imread('{}/{}'.format(filepath, random.choice(images)))\n",
    "    img = img.astype(np.float32)\n",
    "    img = img/255.0\n",
    "    return img\n",
    "\n",
    "def rand_cropped():\n",
    "    img = rand_img()\n",
    "    \n",
    "    while len(img.shape) < 3:\n",
    "        img = rand_img()\n",
    "        \n",
    "    while img.shape[2] != 3:\n",
    "        img = rand_img()\n",
    "    \n",
    "    d1 = 128.0\n",
    "    d2 = 150.0\n",
    "    \n",
    "    s1 = d1/min(img.shape[0], img.shape[1])\n",
    "    s2 = d2/min(img.shape[0], img.shape[1])\n",
    "    \n",
    "    img1 = cv2.resize(img, (0, 0), fx=s1, fy=s1)\n",
    "    img2 = cv2.resize(img, (0, 0), fx=s2, fy=s2)\n",
    "    \n",
    "    o1 = int(d1/2-IMG/2)\n",
    "    o2 = int(d2/2-IMG/2)\n",
    "    \n",
    "    img1 = img1[o1:o1+IMG, o1:o1+IMG]\n",
    "    img2 = img2[o2:o2+IMG, o2:o2+IMG]\n",
    "    \n",
    "    return img1, img2\n",
    "\n",
    "def rand_batch(num=50):\n",
    "    batch = []\n",
    "    for i in range(num):\n",
    "        i1, i2 = rand_cropped()\n",
    "        batch.append([i1, i2])\n",
    "    return batch"
   ]
  },
  {
   "cell_type": "code",
   "execution_count": 5,
   "metadata": {
    "collapsed": false
   },
   "outputs": [
    {
     "data": {
      "image/png": "[encoded data removed]",
      "text/plain": [
       "<matplotlib.figure.Figure at 0x7efed836c050>"
      ]
     },
     "metadata": {},
     "output_type": "display_data"
    }
   ],
   "source": [
    "batch = rand_batch(20)\n",
    "\n",
    "for b in batch:\n",
    "    for i in b:\n",
    "        clear_output(wait=True)\n",
    "        plt.xticks([])\n",
    "        plt.yticks([])\n",
    "        f = plt.imshow(i)\n",
    "        plt.show()"
   ]
  },
  {
   "cell_type": "code",
   "execution_count": 43,
   "metadata": {
    "collapsed": false
   },
   "outputs": [],
   "source": [
    "# Fully connected model with dropout\n",
    "\n",
    "def weight_variable(shape):\n",
    "    initial = tf.random_normal(shape, stddev=0.01)\n",
    "    return tf.Variable(initial)\n",
    "\n",
    "def bias_variable(shape):\n",
    "    initial = tf.constant(0.01, shape=shape)\n",
    "    return tf.Variable(initial)\n",
    "\n",
    "flat_dim = IMG * IMG * CHANNELS\n",
    "\n",
    "x = tf.placeholder(tf.float32, [None, IMG, IMG, CHANNELS])\n",
    "t = tf.placeholder(tf.float32, [None, IMG, IMG, CHANNELS])\n",
    "\n",
    "x_flat = tf.reshape(x, [-1, flat_dim])\n",
    "t_flat = tf.reshape(t, [-1, flat_dim])\n",
    "\n",
    "keep_prob = tf.placeholder(tf.float32)\n",
    "\n",
    "W1 = weight_variable((flat_dim, HIDDEN))\n",
    "b1 = bias_variable((1, HIDDEN))\n",
    "\n",
    "h1 = tf.nn.relu(tf.matmul(x_flat, W1) + b1)\n",
    "h1_drop = tf.nn.dropout(h1, keep_prob)\n",
    "\n",
    "W2 = weight_variable((HIDDEN, HIDDEN))\n",
    "b2 = bias_variable((1, HIDDEN))\n",
    "\n",
    "h2 = tf.nn.relu(tf.matmul(h1_drop, W2) + b2)\n",
    "h2_drop = tf.nn.dropout(h2, keep_prob)\n",
    "\n",
    "W3 = weight_variable((HIDDEN, flat_dim))\n",
    "b3 = bias_variable((1, flat_dim))\n",
    "\n",
    "h3 = tf.matmul(h2_drop, W3) + b3\n",
    "\n",
    "regularizers = sum([tf.nn.l2_loss(param) for param in [W1, b1, W2, b2, W3, b3]])\n",
    "\n",
    "cost = tf.reduce_mean(tf.square(h3 - t_flat)) # + 2e-4 * regularizers\n",
    "train = tf.train.AdamOptimizer(0.01).minimize(cost)"
   ]
  },
  {
   "cell_type": "code",
   "execution_count": 6,
   "metadata": {
    "collapsed": false
   },
   "outputs": [],
   "source": [
    "# CNN model\n",
    "\n",
    "def weight_variable(shape):\n",
    "    initial = tf.truncated_normal(shape, stddev=0.01)\n",
    "    return tf.Variable(initial)\n",
    "\n",
    "def bias_variable(shape):\n",
    "    initial = tf.constant(0.01, shape=shape)\n",
    "    return tf.Variable(initial)\n",
    "\n",
    "def conv2d(x, W):\n",
    "    return tf.nn.conv2d(x, W, strides=[1, 1, 1, 1], padding='SAME')\n",
    "\n",
    "def max_pool_2x2(x):\n",
    "    return tf.nn.max_pool(x, ksize=[1, 2, 2, 1], strides=[1, 2, 2, 1], padding='SAME')\n",
    "\n",
    "x = tf.placeholder(tf.float32, (None, IMG, IMG, CHANNELS))\n",
    "y_ = tf.placeholder(tf.float32, (None, IMG, IMG, CHANNELS))\n",
    "\n",
    "W_conv1 = weight_variable([5, 5, 3, 32])\n",
    "b_conv1 = bias_variable([32])\n",
    "\n",
    "x_image = tf.reshape(x, (-1, IMG, IMG, CHANNELS))\n",
    "\n",
    "h_conv1 = tf.nn.relu(conv2d(x_image, W_conv1) + b_conv1)\n",
    "# h_pool1 = max_pool_2x2(h_conv1)\n",
    "\n",
    "W_conv2 = weight_variable([5, 5, 32, 64])\n",
    "b_conv2 = bias_variable([64])\n",
    "\n",
    "h_conv2 = tf.nn.relu(conv2d(h_conv1, W_conv2) + b_conv2)\n",
    "#h_pool2 = max_pool_2x2(h_conv2)\n",
    "\n",
    "W_conv3 = weight_variable([5, 5, 64, 3])\n",
    "b_conv3 = bias_variable([3])\n",
    "\n",
    "y_conv = tf.nn.relu(conv2d(h_conv2, W_conv3) + b_conv3)\n",
    "\n",
    "cost = tf.reduce_mean(tf.square(y_conv - y_))\n",
    "train = tf.train.GradientDescentOptimizer(0.01).minimize(cost)"
   ]
  },
  {
   "cell_type": "code",
   "execution_count": 7,
   "metadata": {
    "collapsed": false
   },
   "outputs": [],
   "source": [
    "if 'session' in globals():\n",
    "    session.close()\n",
    "    \n",
    "session = tf.InteractiveSession()\n",
    "session.run(tf.initialize_all_variables())"
   ]
  },
  {
   "cell_type": "code",
   "execution_count": 20,
   "metadata": {
    "collapsed": false
   },
   "outputs": [
    {
     "name": "stdout",
     "output_type": "stream",
     "text": [
      "0: cost: 0.0243487339467\n",
      "100: cost: 0.0245728306472\n",
      "200: cost: 0.0253677591681\n",
      "300: cost: 0.0187038853765\n",
      "400: cost: 0.0187499020249\n",
      "500: cost: 0.0191137697548\n",
      "600: cost: 0.0195190235972\n",
      "700: cost: 0.0178744699806\n",
      "800: cost: 0.0156677439809\n",
      "900: cost: 0.0171624105424\n",
      "1000: cost: 0.0160027537495\n",
      "1100: cost: 0.0126398066059\n",
      "1200: cost: 0.0149100832641\n",
      "1300: cost: 0.0143581330776\n",
      "1400: cost: 0.0153499189764\n",
      "1500: cost: 0.0123520120978\n",
      "1600: cost: 0.0121835609898\n",
      "1700: cost: 0.0129717541859\n",
      "1800: cost: 0.0113923531026\n",
      "1900: cost: 0.0109474658966\n",
      "2000: cost: 0.0106881652027\n",
      "2100: cost: 0.0113416295499\n",
      "2200: cost: 0.0111490096897\n",
      "2300: cost: 0.0108538158238\n",
      "2400: cost: 0.0115381451324\n",
      "2500: cost: 0.010379220359\n",
      "2600: cost: 0.0126879224554\n",
      "2700: cost: 0.00973156839609\n",
      "2800: cost: 0.0120227150619\n",
      "2900: cost: 0.00774979172274\n",
      "3000: cost: 0.0102005358785\n",
      "3100: cost: 0.00999682862312\n",
      "3200: cost: 0.0103178704157\n",
      "3300: cost: 0.0103910602629\n",
      "3400: cost: 0.0119291711599\n",
      "3500: cost: 0.00959149003029\n",
      "3600: cost: 0.0108797103167\n",
      "3700: cost: 0.00894138216972\n",
      "3800: cost: 0.00905483029783\n",
      "3900: cost: 0.00868752598763\n",
      "4000: cost: 0.00777984596789\n",
      "4100: cost: 0.00986055191606\n",
      "4200: cost: 0.0107334014028\n",
      "4300: cost: 0.0122555047274\n",
      "4400: cost: 0.00869691744447\n",
      "4500: cost: 0.00985825061798\n",
      "4600: cost: 0.00878868065774\n",
      "4700: cost: 0.00981842912734\n",
      "4800: cost: 0.0087076453492\n",
      "4900: cost: 0.00939269270748\n",
      "5000: cost: 0.00992786232382\n",
      "5100: cost: 0.00765910139307\n",
      "5200: cost: 0.00920540187508\n",
      "5300: cost: 0.00950007233769\n",
      "5400: cost: 0.00834756717086\n",
      "5500: cost: 0.0103394687176\n",
      "5600: cost: 0.0105143655092\n",
      "5700: cost: 0.00805132836103\n",
      "5800: cost: 0.0103280516341\n",
      "5900: cost: 0.00850549247116\n",
      "6000: cost: 0.0116281285882\n",
      "6100: cost: 0.00927454791963\n",
      "6200: cost: 0.00938027724624\n",
      "6300: cost: 0.0106170400977\n",
      "6400: cost: 0.00922136101872\n",
      "6500: cost: 0.00801438372582\n",
      "6600: cost: 0.00916521716863\n",
      "6700: cost: 0.00860710162669\n",
      "6800: cost: 0.00999896042049\n",
      "6900: cost: 0.0111236618832\n",
      "7000: cost: 0.00856450013816\n",
      "7100: cost: 0.00904739648104\n",
      "7200: cost: 0.00917736347765\n",
      "7300: cost: 0.00927927531302\n",
      "7400: cost: 0.00933852791786\n",
      "7500: cost: 0.00972464121878\n",
      "7600: cost: 0.00955414120108\n",
      "7700: cost: 0.00931244250387\n",
      "7800: cost: 0.00856626126915\n",
      "7900: cost: 0.00884323660284\n",
      "8000: cost: 0.0087895411998\n",
      "8100: cost: 0.00824706722051\n",
      "8200: cost: 0.00794206187129\n",
      "8300: cost: 0.0086658410728\n",
      "8400: cost: 0.00803016033024\n",
      "8500: cost: 0.00901921465993\n",
      "8600: cost: 0.00777606666088\n",
      "8700: cost: 0.00879941787571\n",
      "8800: cost: 0.00865361280739\n",
      "8900: cost: 0.00826132390648\n",
      "9000: cost: 0.00915377307683\n",
      "9100: cost: 0.00833230372518\n",
      "9200: cost: 0.0088476696983\n",
      "9300: cost: 0.00934152677655\n",
      "9400: cost: 0.00777464406565\n",
      "9500: cost: 0.00773740373552\n",
      "9600: cost: 0.00941615644842\n",
      "9700: cost: 0.00783175509423\n",
      "9800: cost: 0.00797065533698\n",
      "9900: cost: 0.00816893391311\n"
     ]
    }
   ],
   "source": [
    "for i in range(10000):\n",
    "    batch = np.array(rand_batch(num=50))\n",
    "    \n",
    "    session.run(train, {x: batch[:,0], y_: batch[:,1]})\n",
    "    \n",
    "    if i % 100 == 0:\n",
    "        print('{}: cost: {}'.format(i, cost.eval({x: batch[:,0], y_: batch[:,1]})))"
   ]
  },
  {
   "cell_type": "code",
   "execution_count": 21,
   "metadata": {
    "collapsed": false
   },
   "outputs": [
    {
     "name": "stdout",
     "output_type": "stream",
     "text": [
      "saved\n"
     ]
    }
   ],
   "source": [
    "saver = tf.train.Saver(tf.trainable_variables())\n",
    "\n",
    "saver.save(session, './model.ckpt')\n",
    "print('saved')"
   ]
  },
  {
   "cell_type": "code",
   "execution_count": 26,
   "metadata": {
    "collapsed": false
   },
   "outputs": [
    {
     "data": {
      "image/png": "[encoded data removed]",
      "text/plain": [
       "<matplotlib.figure.Figure at 0x7efeb4085b90>"
      ]
     },
     "metadata": {},
     "output_type": "display_data"
    }
   ],
   "source": [
    "# Rollout!\n",
    "\n",
    "for roll in range(10):\n",
    "    \n",
    "    img, img2 = rand_cropped()\n",
    "\n",
    "    for i in range(50):\n",
    "        \n",
    "        img_out = y_conv.eval({x: [img]})[0]\n",
    "        img_out = img_out.reshape((IMG, IMG, CHANNELS))\n",
    "        img = img_out\n",
    "        \n",
    "        if i % 1 == 0:\n",
    "            clear_output(wait=True)\n",
    "            plt.xticks([])\n",
    "            plt.yticks([])\n",
    "            plt.imshow(img_out)\n",
    "            plt.show()"
   ]
  },
  {
   "cell_type": "code",
   "execution_count": 867,
   "metadata": {
    "collapsed": false
   },
   "outputs": [
    {
     "data": {
      "text/plain": [
       "array([[-0.01522355, -0.01392068, -0.00686763, ..., -0.00293969,\n",
       "        -0.0053197 ,  0.02075916],\n",
       "       [-0.01170238, -0.02033525, -0.00037668, ...,  0.01824238,\n",
       "         0.00963017, -0.01058796],\n",
       "       [-0.02565548, -0.02092624, -0.01224264, ..., -0.00738754,\n",
       "         0.00395218, -0.00083106],\n",
       "       ..., \n",
       "       [-0.00712751, -0.01927438, -0.00129593, ..., -0.00911853,\n",
       "        -0.00176717,  0.00768052],\n",
       "       [-0.00428903, -0.0078139 , -0.02125476, ..., -0.00191449,\n",
       "        -0.01085576,  0.00409154],\n",
       "       [-0.0112769 , -0.00903569, -0.00052026, ...,  0.0073807 ,\n",
       "        -0.02546746,  0.01504865]], dtype=float32)"
      ]
     },
     "execution_count": 867,
     "metadata": {},
     "output_type": "execute_result"
    }
   ],
   "source": [
    "W1.eval()"
   ]
  },
  {
   "cell_type": "code",
   "execution_count": 871,
   "metadata": {
    "collapsed": false
   },
   "outputs": [
    {
     "data": {
      "image/png": "[encoded data removed]",
      "text/plain": [
       "<matplotlib.figure.Figure at 0x7f1584500b10>"
      ]
     },
     "metadata": {},
     "output_type": "display_data"
    }
   ],
   "source": [
    "# Warp test\n",
    "\n",
    "img, img2 = rand_cropped()\n",
    "#img = cv2.resize(img, (0, 0), fx=0.1, fy=0.1)\n",
    "\n",
    "def warp(alpha=0.1, v=3):\n",
    "    new_img = np.zeros_like(img)\n",
    "    idim = img.shape[0]\n",
    "    jdim = img.shape[1]\n",
    "    ioff = 0.0\n",
    "    joff = 0.0\n",
    "    for i in range(img.shape[0]):\n",
    "        for j in range(img.shape[1]):\n",
    "            \n",
    "            ioff = ioff + alpha * (np.random.random_sample()*v-v/2.0 - ioff)\n",
    "            joff = joff + alpha * (np.random.random_sample()*v-v/2.0 - joff)\n",
    "            \n",
    "            io = min(max(int(np.round(i + ioff)), 0), idim - 1)\n",
    "            jo = min(max(int(np.round(j + joff)), 0), jdim - 1)\n",
    "            \n",
    "            new_img[i, j] = img[io, jo]\n",
    "    return new_img\n",
    "\n",
    "def test_warp(alpha=0.1, v=3):\n",
    "    plt.figure(figsize=(2,2))\n",
    "    plt.xticks([])\n",
    "    plt.yticks([])\n",
    "    plt.imshow(warp(alpha, v), cmap=plt.cm.gray)\n",
    "    \n",
    "i = interact(test_warp, alpha=(0, 1, .01), v=(0, 20, .1))"
   ]
  },
  {
   "cell_type": "code",
   "execution_count": null,
   "metadata": {
    "collapsed": true
   },
   "outputs": [],
   "source": []
  },
  {
   "cell_type": "code",
   "execution_count": null,
   "metadata": {
    "collapsed": true
   },
   "outputs": [],
   "source": []
  },
  {
   "cell_type": "code",
   "execution_count": null,
   "metadata": {
    "collapsed": true
   },
   "outputs": [],
   "source": []
  },
  {
   "cell_type": "code",
   "execution_count": null,
   "metadata": {
    "collapsed": true
   },
   "outputs": [],
   "source": []
  },
  {
   "cell_type": "code",
   "execution_count": null,
   "metadata": {
    "collapsed": true
   },
   "outputs": [],
   "source": []
  },
  {
   "cell_type": "code",
   "execution_count": null,
   "metadata": {
    "collapsed": true
   },
   "outputs": [],
   "source": [
    "\n"
   ]
  }
 ],
 "metadata": {
  "kernelspec": {
   "display_name": "Python 2",
   "language": "python",
   "name": "python2"
  },
  "language_info": {
   "codemirror_mode": {
    "name": "ipython",
    "version": 2
   },
   "file_extension": ".py",
   "mimetype": "text/x-python",
   "name": "python",
   "nbconvert_exporter": "python",
   "pygments_lexer": "ipython2",
   "version": "2.7.11"
  }
 },
 "nbformat": 4,
 "nbformat_minor": 0
}
